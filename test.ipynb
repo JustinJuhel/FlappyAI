{
 "cells": [
  {
   "cell_type": "markdown",
   "metadata": {},
   "source": [
    "# Testing the Neural Network"
   ]
  },
  {
   "cell_type": "markdown",
   "metadata": {},
   "source": [
    "We use the Genetic Algorithm:\n",
    "\n",
    "Etapes pour l'algorithme génétique :\n",
    "- Initialisation : je crée ma population d'oiseaux.\n",
    "- Sélection : je fais jouer tous les oiseaux et je relève la distance parcourue par chacun avant sa mort. Je sélectionne les 10% meilleurs oiseaux pour la reproduction\n",
    "- Croisement : je crée une nouvelle génération en faisant des croisements entre les deux parents de chaque enfant. Chaque génération a la même population\n",
    "- Mutation (facultatif) : on modifie aléaoirement le génome des oiseaux\n",
    "- Remplacement : je remplace la génération précédente par la nouvelle génération, issue des meilleurs oiseaux de la génération précédente\n",
    "- Arrêt : j'arrête la simulation lorsqu'un nombre maximum de génération est atteint ou qu'une certaine performance est atteinte."
   ]
  },
  {
   "cell_type": "code",
   "execution_count": 2,
   "metadata": {},
   "outputs": [],
   "source": [
    "import torch\n",
    "import torch.nn as nn\n",
    "import torch.nn.functional as F\n",
    "import numpy as np\n",
    "import random as rd\n",
    "# Our Modules\n",
    "from utils.network import BirdBrain\n",
    "from app.bird_cloud import BirdCloud"
   ]
  },
  {
   "cell_type": "markdown",
   "metadata": {},
   "source": [
    "### Model instantiation"
   ]
  },
  {
   "cell_type": "code",
   "execution_count": 4,
   "metadata": {},
   "outputs": [],
   "source": [
    "n_birds = 32\n",
    "\n",
    "n_connections = 240\n",
    "genome = np.ones((1, n_connections))\n",
    "\n",
    "model = BirdBrain(batch_size=n_birds, genome=genome)\n",
    "\n",
    "criterion = nn.MSELoss()"
   ]
  },
  {
   "cell_type": "markdown",
   "metadata": {},
   "source": [
    "### Creating the population"
   ]
  },
  {
   "cell_type": "code",
   "execution_count": 5,
   "metadata": {},
   "outputs": [
    {
     "ename": "IndexError",
     "evalue": "invalid index to scalar variable.",
     "output_type": "error",
     "traceback": [
      "\u001b[1;31m---------------------------------------------------------------------------\u001b[0m",
      "\u001b[1;31mIndexError\u001b[0m                                Traceback (most recent call last)",
      "Cell \u001b[1;32mIn[5], line 6\u001b[0m\n\u001b[0;32m      2\u001b[0m     population \u001b[38;5;241m=\u001b[39m BirdCloud(horiz_speed\u001b[38;5;241m=\u001b[39m\u001b[38;5;241m7\u001b[39m, n_birds\u001b[38;5;241m=\u001b[39m\u001b[38;5;241m32\u001b[39m)\n\u001b[0;32m      4\u001b[0m     \u001b[38;5;28mprint\u001b[39m(population)\n\u001b[1;32m----> 6\u001b[0m \u001b[43mcreate_population\u001b[49m\u001b[43m(\u001b[49m\u001b[43m)\u001b[49m\n",
      "Cell \u001b[1;32mIn[5], line 2\u001b[0m, in \u001b[0;36mcreate_population\u001b[1;34m(n_birds)\u001b[0m\n\u001b[0;32m      1\u001b[0m \u001b[38;5;28;01mdef\u001b[39;00m \u001b[38;5;21mcreate_population\u001b[39m(n_birds\u001b[38;5;241m=\u001b[39m\u001b[38;5;241m32\u001b[39m):\n\u001b[1;32m----> 2\u001b[0m     population \u001b[38;5;241m=\u001b[39m \u001b[43mBirdCloud\u001b[49m\u001b[43m(\u001b[49m\u001b[43mhoriz_speed\u001b[49m\u001b[38;5;241;43m=\u001b[39;49m\u001b[38;5;241;43m7\u001b[39;49m\u001b[43m,\u001b[49m\u001b[43m \u001b[49m\u001b[43mn_birds\u001b[49m\u001b[38;5;241;43m=\u001b[39;49m\u001b[38;5;241;43m32\u001b[39;49m\u001b[43m)\u001b[49m\n\u001b[0;32m      4\u001b[0m     \u001b[38;5;28mprint\u001b[39m(population)\n",
      "File \u001b[1;32md:\\Informatique\\AI\\FlappyAI\\app\\bird_cloud.py:26\u001b[0m, in \u001b[0;36mBirdCloud.__init__\u001b[1;34m(self, n_birds, horiz_speed, window)\u001b[0m\n\u001b[0;32m     24\u001b[0m \u001b[38;5;28mself\u001b[39m\u001b[38;5;241m.\u001b[39mgenome_size \u001b[38;5;241m=\u001b[39m \u001b[38;5;241m240\u001b[39m\n\u001b[0;32m     25\u001b[0m \u001b[38;5;28mself\u001b[39m\u001b[38;5;241m.\u001b[39mgenomes \u001b[38;5;241m=\u001b[39m np\u001b[38;5;241m.\u001b[39marray((\u001b[38;5;28mself\u001b[39m\u001b[38;5;241m.\u001b[39mgenome_size, \u001b[38;5;28mself\u001b[39m\u001b[38;5;241m.\u001b[39mn_birds))\n\u001b[1;32m---> 26\u001b[0m \u001b[38;5;28mself\u001b[39m\u001b[38;5;241m.\u001b[39mbrains \u001b[38;5;241m=\u001b[39m np\u001b[38;5;241m.\u001b[39marray(\u001b[43m[\u001b[49m\u001b[43mBirdBrain\u001b[49m\u001b[43m(\u001b[49m\u001b[43mbatch_size\u001b[49m\u001b[38;5;241;43m=\u001b[39;49m\u001b[43mn_birds\u001b[49m\u001b[43m,\u001b[49m\u001b[43m \u001b[49m\u001b[43mgenome\u001b[49m\u001b[38;5;241;43m=\u001b[39;49m\u001b[43mgenome\u001b[49m\u001b[43m)\u001b[49m\u001b[43m \u001b[49m\u001b[38;5;28;43;01mfor\u001b[39;49;00m\u001b[43m \u001b[49m\u001b[43mgenome\u001b[49m\u001b[43m \u001b[49m\u001b[38;5;129;43;01min\u001b[39;49;00m\u001b[43m \u001b[49m\u001b[38;5;28;43mself\u001b[39;49m\u001b[38;5;241;43m.\u001b[39;49m\u001b[43mgenomes\u001b[49m\u001b[43m]\u001b[49m)\n",
      "File \u001b[1;32md:\\Informatique\\AI\\FlappyAI\\app\\bird_cloud.py:26\u001b[0m, in \u001b[0;36m<listcomp>\u001b[1;34m(.0)\u001b[0m\n\u001b[0;32m     24\u001b[0m \u001b[38;5;28mself\u001b[39m\u001b[38;5;241m.\u001b[39mgenome_size \u001b[38;5;241m=\u001b[39m \u001b[38;5;241m240\u001b[39m\n\u001b[0;32m     25\u001b[0m \u001b[38;5;28mself\u001b[39m\u001b[38;5;241m.\u001b[39mgenomes \u001b[38;5;241m=\u001b[39m np\u001b[38;5;241m.\u001b[39marray((\u001b[38;5;28mself\u001b[39m\u001b[38;5;241m.\u001b[39mgenome_size, \u001b[38;5;28mself\u001b[39m\u001b[38;5;241m.\u001b[39mn_birds))\n\u001b[1;32m---> 26\u001b[0m \u001b[38;5;28mself\u001b[39m\u001b[38;5;241m.\u001b[39mbrains \u001b[38;5;241m=\u001b[39m np\u001b[38;5;241m.\u001b[39marray([\u001b[43mBirdBrain\u001b[49m\u001b[43m(\u001b[49m\u001b[43mbatch_size\u001b[49m\u001b[38;5;241;43m=\u001b[39;49m\u001b[43mn_birds\u001b[49m\u001b[43m,\u001b[49m\u001b[43m \u001b[49m\u001b[43mgenome\u001b[49m\u001b[38;5;241;43m=\u001b[39;49m\u001b[43mgenome\u001b[49m\u001b[43m)\u001b[49m \u001b[38;5;28;01mfor\u001b[39;00m genome \u001b[38;5;129;01min\u001b[39;00m \u001b[38;5;28mself\u001b[39m\u001b[38;5;241m.\u001b[39mgenomes])\n",
      "File \u001b[1;32md:\\Informatique\\AI\\FlappyAI\\utils\\network.py:19\u001b[0m, in \u001b[0;36mBirdBrain.__init__\u001b[1;34m(self, batch_size, genome)\u001b[0m\n\u001b[0;32m     16\u001b[0m \u001b[38;5;28mself\u001b[39m\u001b[38;5;241m.\u001b[39mfc2 \u001b[38;5;241m=\u001b[39m nn\u001b[38;5;241m.\u001b[39mLinear(\u001b[38;5;241m40\u001b[39m, \u001b[38;5;241m1\u001b[39m)\n\u001b[0;32m     18\u001b[0m \u001b[38;5;28mself\u001b[39m\u001b[38;5;241m.\u001b[39mgenome \u001b[38;5;241m=\u001b[39m genome\n\u001b[1;32m---> 19\u001b[0m \u001b[38;5;28;43mself\u001b[39;49m\u001b[38;5;241;43m.\u001b[39;49m\u001b[43mgenerate_network\u001b[49m\u001b[43m(\u001b[49m\u001b[43m)\u001b[49m\n",
      "File \u001b[1;32md:\\Informatique\\AI\\FlappyAI\\utils\\network.py:39\u001b[0m, in \u001b[0;36mBirdBrain.generate_network\u001b[1;34m(self)\u001b[0m\n\u001b[0;32m     36\u001b[0m n_outputs \u001b[38;5;241m=\u001b[39m \u001b[38;5;241m1\u001b[39m\n\u001b[0;32m     38\u001b[0m \u001b[38;5;66;03m# Splitting the genome into weights for each layer\u001b[39;00m\n\u001b[1;32m---> 39\u001b[0m weights1 \u001b[38;5;241m=\u001b[39m \u001b[38;5;28;43mself\u001b[39;49m\u001b[38;5;241;43m.\u001b[39;49m\u001b[43mgenome\u001b[49m\u001b[43m[\u001b[49m\u001b[38;5;241;43m0\u001b[39;49m\u001b[43m]\u001b[49m[:n_hidden \u001b[38;5;241m*\u001b[39m n_inputs]\u001b[38;5;241m.\u001b[39mreshape(n_hidden, n_inputs)\n\u001b[0;32m     40\u001b[0m weights2 \u001b[38;5;241m=\u001b[39m \u001b[38;5;28mself\u001b[39m\u001b[38;5;241m.\u001b[39mgenome[\u001b[38;5;241m0\u001b[39m][n_hidden \u001b[38;5;241m*\u001b[39m n_inputs:n_hidden \u001b[38;5;241m*\u001b[39m n_inputs \u001b[38;5;241m+\u001b[39m n_outputs \u001b[38;5;241m*\u001b[39m n_hidden]\u001b[38;5;241m.\u001b[39mreshape(n_outputs, n_hidden)\n\u001b[0;32m     42\u001b[0m \u001b[38;5;66;03m# Assigning the weights to the layers\u001b[39;00m\n",
      "\u001b[1;31mIndexError\u001b[0m: invalid index to scalar variable."
     ]
    }
   ],
   "source": [
    "def create_population(n_birds=32):\n",
    "    population = BirdCloud(horiz_speed=7, n_birds=32)\n",
    "\n",
    "    print(population)\n",
    "\n",
    "create_population()"
   ]
  },
  {
   "cell_type": "markdown",
   "metadata": {},
   "source": [
    "#### Data Structure\n",
    "\n",
    "Inputs:\n",
    "- distance to next pipe;\n",
    "- height of next pipe;\n",
    "- height of the bird;\n",
    "- vertical speed of the bird;\n",
    "- previous actions taken.\n",
    "\n",
    "Outputs:\n",
    "- one integer (1 if the bird should flap, 0 either)."
   ]
  },
  {
   "cell_type": "code",
   "execution_count": null,
   "metadata": {},
   "outputs": [
    {
     "data": {
      "text/plain": [
       "array([[1],\n",
       "       [1],\n",
       "       [1],\n",
       "       [1],\n",
       "       [1],\n",
       "       [1],\n",
       "       [1],\n",
       "       [1],\n",
       "       [1],\n",
       "       [1],\n",
       "       [1],\n",
       "       [1],\n",
       "       [1],\n",
       "       [1],\n",
       "       [1],\n",
       "       [1],\n",
       "       [1],\n",
       "       [1],\n",
       "       [1],\n",
       "       [1],\n",
       "       [1],\n",
       "       [1],\n",
       "       [1],\n",
       "       [1],\n",
       "       [1],\n",
       "       [1],\n",
       "       [1],\n",
       "       [1],\n",
       "       [1],\n",
       "       [1],\n",
       "       [1],\n",
       "       [1]])"
      ]
     },
     "execution_count": 6,
     "metadata": {},
     "output_type": "execute_result"
    }
   ],
   "source": [
    "import time\n",
    "start_time = time.time()\n",
    "\n",
    "X = np.zeros((n_birds, 4))\n",
    "X[:, 0] = 200 # x\n",
    "X[:, 1] = 450 # y\n",
    "X[:, 2] = -30 # vy\n",
    "X[:, 3] = 1 # all birds are alive\n"
   ]
  }
 ],
 "metadata": {
  "kernelspec": {
   "display_name": "base",
   "language": "python",
   "name": "python3"
  },
  "language_info": {
   "codemirror_mode": {
    "name": "ipython",
    "version": 3
   },
   "file_extension": ".py",
   "mimetype": "text/x-python",
   "name": "python",
   "nbconvert_exporter": "python",
   "pygments_lexer": "ipython3",
   "version": "3.11.5"
  }
 },
 "nbformat": 4,
 "nbformat_minor": 2
}
